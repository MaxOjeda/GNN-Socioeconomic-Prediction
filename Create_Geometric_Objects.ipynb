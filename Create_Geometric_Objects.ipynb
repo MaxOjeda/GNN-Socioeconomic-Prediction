{
 "cells": [
  {
   "cell_type": "markdown",
   "metadata": {},
   "source": [
    "# Create Pytorch Geometric Data Objects"
   ]
  },
  {
   "cell_type": "code",
   "execution_count": 3,
   "metadata": {},
   "outputs": [],
   "source": [
    "import pandas as pd\n",
    "import osmnx as ox\n",
    "import networkx as nx\n",
    "from tqdm import tqdm\n",
    "import geopandas as gpd\n",
    "from utils import createPytorchData"
   ]
  },
  {
   "cell_type": "markdown",
   "metadata": {},
   "source": [
    "## Cargar datos de santiago y mapa de OSM"
   ]
  },
  {
   "cell_type": "code",
   "execution_count": 2,
   "metadata": {},
   "outputs": [
    {
     "data": {
      "text/html": [
       "<div>\n",
       "<style scoped>\n",
       "    .dataframe tbody tr th:only-of-type {\n",
       "        vertical-align: middle;\n",
       "    }\n",
       "\n",
       "    .dataframe tbody tr th {\n",
       "        vertical-align: top;\n",
       "    }\n",
       "\n",
       "    .dataframe thead th {\n",
       "        text-align: right;\n",
       "    }\n",
       "</style>\n",
       "<table border=\"1\" class=\"dataframe\">\n",
       "  <thead>\n",
       "    <tr style=\"text-align: right;\">\n",
       "      <th></th>\n",
       "      <th>latlong</th>\n",
       "      <th>beautiful</th>\n",
       "      <th>boring</th>\n",
       "      <th>depressing</th>\n",
       "      <th>lively</th>\n",
       "      <th>safe</th>\n",
       "      <th>wealthy</th>\n",
       "      <th>lat</th>\n",
       "      <th>lon</th>\n",
       "      <th>node_id</th>\n",
       "      <th>division</th>\n",
       "      <th>prom_ismt</th>\n",
       "    </tr>\n",
       "  </thead>\n",
       "  <tbody>\n",
       "    <tr>\n",
       "      <th>0</th>\n",
       "      <td>-33.323944,-70.51263428391168</td>\n",
       "      <td>-0.306948</td>\n",
       "      <td>1.565049</td>\n",
       "      <td>0.572029</td>\n",
       "      <td>-1.137733</td>\n",
       "      <td>-0.120456</td>\n",
       "      <td>-0.561887</td>\n",
       "      <td>-33.323944</td>\n",
       "      <td>-70.512634</td>\n",
       "      <td>1396118148</td>\n",
       "      <td>Lo Barnechea</td>\n",
       "      <td>0.915742</td>\n",
       "    </tr>\n",
       "    <tr>\n",
       "      <th>1</th>\n",
       "      <td>-33.323944,-70.5127291</td>\n",
       "      <td>-0.421388</td>\n",
       "      <td>0.309495</td>\n",
       "      <td>0.368965</td>\n",
       "      <td>-0.098733</td>\n",
       "      <td>-0.103042</td>\n",
       "      <td>-0.162294</td>\n",
       "      <td>-33.323944</td>\n",
       "      <td>-70.512729</td>\n",
       "      <td>1396118148</td>\n",
       "      <td>Lo Barnechea</td>\n",
       "      <td>0.915742</td>\n",
       "    </tr>\n",
       "  </tbody>\n",
       "</table>\n",
       "</div>"
      ],
      "text/plain": [
       "                         latlong  beautiful    boring  depressing    lively  \\\n",
       "0  -33.323944,-70.51263428391168  -0.306948  1.565049    0.572029 -1.137733   \n",
       "1         -33.323944,-70.5127291  -0.421388  0.309495    0.368965 -0.098733   \n",
       "\n",
       "       safe   wealthy        lat        lon     node_id      division  \\\n",
       "0 -0.120456 -0.561887 -33.323944 -70.512634  1396118148  Lo Barnechea   \n",
       "1 -0.103042 -0.162294 -33.323944 -70.512729  1396118148  Lo Barnechea   \n",
       "\n",
       "   prom_ismt  \n",
       "0   0.915742  \n",
       "1   0.915742  "
      ]
     },
     "execution_count": 2,
     "metadata": {},
     "output_type": "execute_result"
    }
   ],
   "source": [
    "nodos_santiago = pd.read_csv('Data/dataset_santiago_ismt.csv')\n",
    "nodos_santiago.head(2)"
   ]
  },
  {
   "cell_type": "markdown",
   "metadata": {},
   "source": [
    "### Cambiar nombre comuna a int"
   ]
  },
  {
   "cell_type": "code",
   "execution_count": 8,
   "metadata": {},
   "outputs": [
    {
     "name": "stdout",
     "output_type": "stream",
     "text": [
      "          division  division_num\n",
      "0     Lo Barnechea            17\n",
      "3341      Vitacura            41\n",
      "3856        Colina             4\n",
      "3893     Quilicura            30\n",
      "4817         Lampa            15\n"
     ]
    }
   ],
   "source": [
    "nodos_santiago['division_num'] = pd.Categorical(nodos_santiago['division']).codes\n",
    "print(nodos_santiago[['division', 'division_num']].drop_duplicates()[:5])"
   ]
  },
  {
   "cell_type": "code",
   "execution_count": 9,
   "metadata": {},
   "outputs": [],
   "source": [
    "num2div = {}\n",
    "div2num = {}\n",
    "for _, row in nodos_santiago[['division', 'division_num']].drop_duplicates().iterrows():\n",
    "    num2div[row.division_num] = row.division\n",
    "    div2num[row.division] = row.division_num"
   ]
  },
  {
   "cell_type": "code",
   "execution_count": 10,
   "metadata": {},
   "outputs": [],
   "source": [
    "import pickle\n",
    "with open('../Data/Comunas/division2numbers.pkl', 'wb') as fp:\n",
    "    pickle.dump(div2num, fp)\n",
    "with open('../Data/Comunas/numbers2division.pkl', 'wb') as fp:\n",
    "    pickle.dump(num2div, fp)"
   ]
  },
  {
   "cell_type": "code",
   "execution_count": 11,
   "metadata": {},
   "outputs": [
    {
     "name": "stdout",
     "output_type": "stream",
     "text": [
      "Number of nodes: 355936\n",
      "Number of edges: 673565\n",
      "Number of strongly conncected components: 2450\n"
     ]
    }
   ],
   "source": [
    "G = ox.load_graphml(\"../Maps/santiago_drive.graphml\")\n",
    "print(f'Number of nodes: {len(G.nodes())}')\n",
    "print(f'Number of edges: {len(G.edges())}')\n",
    "print(f'Number of strongly conncected components: {nx.number_strongly_connected_components(G)}')"
   ]
  },
  {
   "cell_type": "code",
   "execution_count": 12,
   "metadata": {},
   "outputs": [
    {
     "name": "stdout",
     "output_type": "stream",
     "text": [
      "99.259% of nodes in one component\n"
     ]
    }
   ],
   "source": [
    "components_length = [len(list(component)) for component in list(nx.strongly_connected_components(G))]\n",
    "components_length.sort(reverse=True)\n",
    "print(f\"{round(components_length[0]/len(G.nodes()),5) * 100}% of nodes in one component\")"
   ]
  },
  {
   "cell_type": "markdown",
   "metadata": {},
   "source": [
    "## Add values to the complementary nodes of the OSM Graph"
   ]
  },
  {
   "cell_type": "code",
   "execution_count": 13,
   "metadata": {},
   "outputs": [],
   "source": [
    "def get_nodes_attrs(G):\n",
    "    attributes = {}\n",
    "    for node, attrs in G.nodes.data():\n",
    "        #print(f\"Atributos de {node}: {', '.join(attrs.keys())}\")\n",
    "        for att in attrs.keys():\n",
    "            if att not in attributes:\n",
    "                attributes[att] = 0\n",
    "            attributes[att] += 1\n",
    "    return attributes\n",
    "\n",
    "def get_edges_attrs(G):\n",
    "    edges_atts = {}\n",
    "    for u, v, attr in G.edges.data():\n",
    "        for att in attr.keys():\n",
    "            if att not in edges_atts:\n",
    "                edges_atts[att] = 0\n",
    "            edges_atts[att] += 1\n",
    "    return edges_atts"
   ]
  },
  {
   "cell_type": "code",
   "execution_count": 14,
   "metadata": {},
   "outputs": [],
   "source": [
    "# Se agregan los atributos como \"boring\", \"lively\" etc. a los nodos existentes que se encuentran en el grafo G\n",
    "for _, row in nodos_santiago.iterrows():\n",
    "    G.add_node(row.node_id, beautiful=row.beautiful, boring=row.boring,\n",
    "               depressing=row.depressing, lively=row.lively,\n",
    "               safe=row.safe, wealthy=row.wealthy, division=row.division_num, ismt=row.prom_ismt)"
   ]
  },
  {
   "cell_type": "code",
   "execution_count": 15,
   "metadata": {},
   "outputs": [
    {
     "data": {
      "text/plain": [
       "{'y': 355936,\n",
       " 'x': 355936,\n",
       " 'street_count': 355936,\n",
       " 'highway': 35935,\n",
       " 'beautiful': 84252,\n",
       " 'boring': 84252,\n",
       " 'depressing': 84252,\n",
       " 'lively': 84252,\n",
       " 'safe': 84252,\n",
       " 'wealthy': 84252,\n",
       " 'division': 84252,\n",
       " 'ismt': 84252,\n",
       " 'ref': 296}"
      ]
     },
     "execution_count": 15,
     "metadata": {},
     "output_type": "execute_result"
    }
   ],
   "source": [
    "get_nodes_attrs(G)"
   ]
  },
  {
   "cell_type": "code",
   "execution_count": 16,
   "metadata": {},
   "outputs": [],
   "source": [
    "# Eliminar atributos extras de OSM\n",
    "for node in G.nodes:\n",
    "    if 'ref' in G.nodes[node]:\n",
    "        G.nodes[node].pop('ref', None)\n",
    "    if 'highway' in G.nodes[node]:\n",
    "        G.nodes[node].pop('highway', None)\n",
    "    if 'street_count' in G.nodes[node]:\n",
    "        G.nodes[node].pop('street_count', None)"
   ]
  },
  {
   "cell_type": "code",
   "execution_count": 17,
   "metadata": {},
   "outputs": [],
   "source": [
    "for u, v, attr in G.edges.data():\n",
    "    for name in ['osmid', 'oneway', 'lanes', 'name', 'access', 'maxspeed', 'ref', 'bridge', 'junction', 'width', 'tunnel', 'osmid' 'oneway', 'highway', 'reversed', 'speed_kph']:\n",
    "        if name in attr:\n",
    "            del attr[name]"
   ]
  },
  {
   "cell_type": "code",
   "execution_count": 29,
   "metadata": {},
   "outputs": [],
   "source": [
    "df_comunas = gpd.read_file('Data/Comunas/COMUNAS_2020.shp')\n",
    "df_ismt = gpd.read_file('Data/ISMT/ISMT.shp')\n",
    "santiago_division = df_comunas[df_comunas.CUT_REG == '13']\n",
    "\n",
    "def getDivision(point):\n",
    "    for div in santiago_division.geometry:\n",
    "        if point.within(div):\n",
    "            return div\n",
    "        \n",
    "def getIsmtProm(point):\n",
    "    for com in df_ismt.geometry:\n",
    "        if point.within(com):\n",
    "            return com\n",
    "\n",
    "def setDivisionNum(division: str):\n",
    "    return div2num[division]\n",
    "\n",
    "def geoDataProcess(df_extra):\n",
    "    # Obtener latitud y longitug\n",
    "    lats = []\n",
    "    lons = []\n",
    "    for _, row in df_extra.iterrows():\n",
    "        node = row.node_id\n",
    "        lats.append(G.nodes[node]['y'])\n",
    "        lons.append(G.nodes[node]['x'])\n",
    "    df_extra['lat'] = lats\n",
    "    df_extra['lon'] = lons\n",
    "\n",
    "    coords_point = gpd.GeoDataFrame(df_extra, geometry=gpd.points_from_xy(df_extra.lon,df_extra.lat))\n",
    "    coords_point['division'] = coords_point.geometry.apply(getDivision)\n",
    "    tqdm.pandas()\n",
    "    coords_point['geo_ismt'] = coords_point.geometry.progress_apply(getIsmtProm)\n",
    "    \n",
    "    df_merge = coords_point.merge(santiago_division[['geometry', 'COMUNA']], left_on='division', right_on='geometry')\n",
    "    df_merge = df_merge.drop(['geometry_x', 'geometry_y', 'division'], axis=1)\n",
    "    df_merge = df_merge.rename({'COMUNA':'division'}, axis=1)\n",
    "    df_merge['division_num'] = df_merge.division.apply(setDivisionNum)\n",
    "    \n",
    "    df_merge = df_merge.merge(df_ismt[['geometry', 'prom_ismt']], left_on='geo_ismt', right_on='geometry', how='left')\n",
    "    df_extra = df_merge.drop(['geometry', 'geo_ismt'], axis=1)\n",
    "\n",
    "    \n",
    "    \n",
    "\n",
    "    return df_extra"
   ]
  },
  {
   "cell_type": "code",
   "execution_count": 21,
   "metadata": {},
   "outputs": [
    {
     "data": {
      "text/plain": [
       "355936"
      ]
     },
     "execution_count": 21,
     "metadata": {},
     "output_type": "execute_result"
    }
   ],
   "source": [
    "ls_nodos_santiago = list(nodos_santiago.node_id.unique())\n",
    "extra_nodes = list(set(G.nodes()) - set(ls_nodos_santiago))\n",
    "len(extra_nodes) + 84252"
   ]
  },
  {
   "cell_type": "markdown",
   "metadata": {},
   "source": [
    "## Zero Map"
   ]
  },
  {
   "cell_type": "code",
   "execution_count": 33,
   "metadata": {},
   "outputs": [
    {
     "name": "stdout",
     "output_type": "stream",
     "text": [
      "Number of nodes: 271684\n"
     ]
    },
    {
     "name": "stderr",
     "output_type": "stream",
     "text": [
      "100%|██████████| 271684/271684 [1:47:53<00:00, 41.97it/s]  \n"
     ]
    }
   ],
   "source": [
    "# Setear valores de nodos extras en 0\n",
    "ls_nodos_santiago = list(nodos_santiago.node_id.unique())\n",
    "extra_nodes = list(set(G.nodes()) - set(ls_nodos_santiago))\n",
    "print(f\"Number of nodes: {len(extra_nodes)}\")\n",
    "beautiful_values = [0] * len(extra_nodes)\n",
    "boring_values = [0] * len(extra_nodes)\n",
    "depressing_values = [0] * len(extra_nodes)\n",
    "lively_values = [0] * len(extra_nodes)\n",
    "safe_values = [0] * len(extra_nodes)\n",
    "wealthy_values = [0] * len(extra_nodes)\n",
    "\n",
    "columns_name = ['node_id', 'beautiful', 'boring', 'depressing', 'lively', 'safe', 'wealthy']\n",
    "df_extra = pd.DataFrame(list(zip(extra_nodes, beautiful_values, boring_values, depressing_values,\n",
    "                                 lively_values, safe_values, wealthy_values)), columns=columns_name)\n",
    "\n",
    "\n",
    "df_extra = geoDataProcess(df_extra)"
   ]
  },
  {
   "cell_type": "code",
   "execution_count": 35,
   "metadata": {},
   "outputs": [],
   "source": [
    "df_extra = df_extra.fillna(0)"
   ]
  },
  {
   "cell_type": "code",
   "execution_count": 36,
   "metadata": {},
   "outputs": [
    {
     "name": "stderr",
     "output_type": "stream",
     "text": [
      "271684it [00:21, 12606.38it/s]\n"
     ]
    }
   ],
   "source": [
    "for _, row in tqdm(df_extra.iterrows()):\n",
    "    G.add_node(row.node_id, beautiful=row.beautiful, boring=row.boring,\n",
    "               depressing=row.depressing, lively=row.lively,\n",
    "               safe=row.safe, wealthy=row.wealthy, division=row.division_num, ismt=row.prom_ismt)"
   ]
  },
  {
   "cell_type": "code",
   "execution_count": 37,
   "metadata": {},
   "outputs": [],
   "source": [
    "nodes_ls = list(G.nodes())\n",
    "c=0\n",
    "dic_nodes = {}\n",
    "for node in nodes_ls:\n",
    "    dic_nodes[node] = c\n",
    "    c+=1\n",
    "\n",
    "G = nx.relabel_nodes(G, dic_nodes)"
   ]
  },
  {
   "cell_type": "code",
   "execution_count": 38,
   "metadata": {},
   "outputs": [
    {
     "data": {
      "text/plain": [
       "{'y': 355936,\n",
       " 'x': 355936,\n",
       " 'beautiful': 355936,\n",
       " 'boring': 355936,\n",
       " 'depressing': 355936,\n",
       " 'lively': 355936,\n",
       " 'safe': 355936,\n",
       " 'wealthy': 355936,\n",
       " 'division': 355936,\n",
       " 'ismt': 355936}"
      ]
     },
     "execution_count": 38,
     "metadata": {},
     "output_type": "execute_result"
    }
   ],
   "source": [
    "get_nodes_attrs(G)"
   ]
  },
  {
   "cell_type": "code",
   "execution_count": 39,
   "metadata": {},
   "outputs": [],
   "source": [
    "ox.save_graphml(G, \"Maps/santiago_drive_zero.graphml\")"
   ]
  },
  {
   "cell_type": "code",
   "execution_count": 4,
   "metadata": {},
   "outputs": [],
   "source": [
    "G = ox.load_graphml(\"Maps/santiago_drive_zero.graphml\")"
   ]
  },
  {
   "cell_type": "code",
   "execution_count": 5,
   "metadata": {},
   "outputs": [
    {
     "name": "stdout",
     "output_type": "stream",
     "text": [
      "355936\n",
      "{'39': 8397, '32': 5333, '27': 8808, '7': 5942, '16': 20954, '42': 8183, '23': 4502, '37': 3115, '9': 2974, '21': 29320, '28': 16907, '3': 4194, '33': 8809, '30': 15328, '5': 5315, '41': 12235, '25': 13110, '11': 23402, '12': 6454, '20': 6258, '2': 6787, '14': 7727, '38': 3127, '10': 3839, '18': 3550, '8': 8638, '35': 4810, '22': 5439, '31': 4702, '29': 33428, '17': 18161, '13': 6546, '34': 18281, '6': 5216, '24': 521, '19': 4426, '26': 3451, '36': 542, '15': 2758, '0': 920, '1': 2615, '40': 736, '4': 176}\n"
     ]
    }
   ],
   "source": [
    "cont = 0\n",
    "nodos_por_comuna = {}\n",
    "for node, attrs in G.nodes(data=True):\n",
    "    if attrs['boring'] != 0:\n",
    "        cont += 1\n",
    "    if attrs['division'] not in nodos_por_comuna:\n",
    "        nodos_por_comuna[attrs['division']] = 0\n",
    "    nodos_por_comuna[attrs['division']] += 1    \n",
    "print(cont)\n",
    "print(nodos_por_comuna)"
   ]
  },
  {
   "cell_type": "code",
   "execution_count": 6,
   "metadata": {},
   "outputs": [
    {
     "name": "stdout",
     "output_type": "stream",
     "text": [
      "Number of nodes: 355936\n",
      "Number of edges: 673565\n",
      "Number of edge attributes: 673565\n",
      "Size of x tensor: torch.Size([355936, 10])\n",
      "Size of edge_index tensor: torch.Size([2, 673565])\n",
      "Size of edge_attributes tensor: torch.Size([673565, 2])\n",
      "Graph saved as PyTorch in Data/santiago_zero_ismt.pt\n"
     ]
    }
   ],
   "source": [
    "createPytorchData(G, file_name='santiago_zero_ismt')"
   ]
  },
  {
   "cell_type": "markdown",
   "metadata": {},
   "source": [
    "## Mean Global"
   ]
  },
  {
   "cell_type": "code",
   "execution_count": 35,
   "metadata": {},
   "outputs": [],
   "source": [
    "# Setear valores de nodos extras en media global\n",
    "ls_nodos_santiago = list(nodos_santiago.node_id.unique())\n",
    "extra_nodes = list(set(G.nodes()) - set(ls_nodos_santiago))\n",
    "\n",
    "beautiful_values = [nodos_santiago['beautiful'].median()] * len(extra_nodes)\n",
    "boring_values = [nodos_santiago['boring'].median()] * len(extra_nodes)\n",
    "depressing_values = [nodos_santiago['depressing'].median()] * len(extra_nodes)\n",
    "lively_values = [nodos_santiago['lively'].median()] * len(extra_nodes)\n",
    "safe_values = [nodos_santiago['safe'].median()] * len(extra_nodes)\n",
    "wealthy_values = [nodos_santiago['wealthy'].median()] * len(extra_nodes)\n",
    "\n",
    "columns_name = ['node_id', 'beautiful', 'boring', 'depressing', 'lively', 'safe', 'wealthy']\n",
    "df_extra = pd.DataFrame(list(zip(extra_nodes, beautiful_values, boring_values, depressing_values,\n",
    "                                 lively_values, safe_values, wealthy_values)), columns=columns_name)\n",
    "\n",
    "\n",
    "df_extra = geoDataProcess(df_extra)"
   ]
  },
  {
   "cell_type": "code",
   "execution_count": 37,
   "metadata": {},
   "outputs": [
    {
     "name": "stderr",
     "output_type": "stream",
     "text": [
      "268038it [00:18, 14178.12it/s]\n"
     ]
    }
   ],
   "source": [
    "for _, row in tqdm(df_extra.iterrows()):\n",
    "    G.add_node(row.node_id, beautiful=row.beautiful, boring=row.boring,\n",
    "               depressing=row.depressing, lively=row.lively,\n",
    "               safe=row.safe, wealthy=row.wealthy, comuna=row.comuna_num)"
   ]
  },
  {
   "cell_type": "code",
   "execution_count": 38,
   "metadata": {},
   "outputs": [],
   "source": [
    "ox.save_graphml(G, \"Maps/santiago_drive_global_mean.graphml\")"
   ]
  },
  {
   "cell_type": "code",
   "execution_count": 39,
   "metadata": {},
   "outputs": [
    {
     "name": "stdout",
     "output_type": "stream",
     "text": [
      "Number of nodes: 355936\n",
      "Number of edges: 673565\n",
      "Number of edge attributes: 673565\n",
      "Size of x tensor: torch.Size([355936, 9])\n",
      "Size of edge_index tensor: torch.Size([2, 673565])\n",
      "Size of edge_attributes tensor: torch.Size([673565, 2])\n",
      "Graph saved as PyTorch in Data/santiago_global_mean.pt\n"
     ]
    }
   ],
   "source": [
    "createPytorchData(G, file_name='santiago_global_mean')"
   ]
  }
 ],
 "metadata": {
  "kernelspec": {
   "display_name": "tesisenv",
   "language": "python",
   "name": "python3"
  },
  "language_info": {
   "codemirror_mode": {
    "name": "ipython",
    "version": 3
   },
   "file_extension": ".py",
   "mimetype": "text/x-python",
   "name": "python",
   "nbconvert_exporter": "python",
   "pygments_lexer": "ipython3",
   "version": "3.11.4"
  },
  "orig_nbformat": 4
 },
 "nbformat": 4,
 "nbformat_minor": 2
}
