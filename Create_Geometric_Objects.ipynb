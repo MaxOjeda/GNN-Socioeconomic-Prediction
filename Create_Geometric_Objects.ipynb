{
 "cells": [
  {
   "cell_type": "markdown",
   "metadata": {},
   "source": [
    "# Create Pytorch Geometric Data Objects"
   ]
  },
  {
   "cell_type": "code",
   "execution_count": 1,
   "metadata": {},
   "outputs": [],
   "source": [
    "import pandas as pd\n",
    "import osmnx as ox\n",
    "import networkx as nx\n",
    "from tqdm import tqdm\n",
    "import geopandas as gpd\n",
    "from utils import createPytorchData"
   ]
  },
  {
   "cell_type": "markdown",
   "metadata": {},
   "source": [
    "## Cargar datos de santiago y mapa de OSM"
   ]
  },
  {
   "cell_type": "code",
   "execution_count": 2,
   "metadata": {},
   "outputs": [
    {
     "data": {
      "text/html": [
       "<div>\n",
       "<style scoped>\n",
       "    .dataframe tbody tr th:only-of-type {\n",
       "        vertical-align: middle;\n",
       "    }\n",
       "\n",
       "    .dataframe tbody tr th {\n",
       "        vertical-align: top;\n",
       "    }\n",
       "\n",
       "    .dataframe thead th {\n",
       "        text-align: right;\n",
       "    }\n",
       "</style>\n",
       "<table border=\"1\" class=\"dataframe\">\n",
       "  <thead>\n",
       "    <tr style=\"text-align: right;\">\n",
       "      <th></th>\n",
       "      <th>latlong</th>\n",
       "      <th>beautiful</th>\n",
       "      <th>boring</th>\n",
       "      <th>depressing</th>\n",
       "      <th>lively</th>\n",
       "      <th>safe</th>\n",
       "      <th>wealthy</th>\n",
       "      <th>lat</th>\n",
       "      <th>lon</th>\n",
       "      <th>node_id</th>\n",
       "      <th>division</th>\n",
       "      <th>prom_ismt</th>\n",
       "      <th>hogares</th>\n",
       "      <th>hog_40pct</th>\n",
       "      <th>pct_hog40p</th>\n",
       "      <th>AVE_GSE</th>\n",
       "    </tr>\n",
       "  </thead>\n",
       "  <tbody>\n",
       "    <tr>\n",
       "      <th>0</th>\n",
       "      <td>-33.323944,-70.51263428391168</td>\n",
       "      <td>-0.306948</td>\n",
       "      <td>1.565049</td>\n",
       "      <td>0.572029</td>\n",
       "      <td>-1.137733</td>\n",
       "      <td>-0.120456</td>\n",
       "      <td>-0.561887</td>\n",
       "      <td>-33.323944</td>\n",
       "      <td>-70.512634</td>\n",
       "      <td>1396118148</td>\n",
       "      <td>Lo Barnechea</td>\n",
       "      <td>0.915742</td>\n",
       "      <td>1087.0</td>\n",
       "      <td>10</td>\n",
       "      <td>0.0092</td>\n",
       "      <td>ABC1</td>\n",
       "    </tr>\n",
       "    <tr>\n",
       "      <th>1</th>\n",
       "      <td>-33.323944,-70.5127291</td>\n",
       "      <td>-0.421388</td>\n",
       "      <td>0.309495</td>\n",
       "      <td>0.368965</td>\n",
       "      <td>-0.098733</td>\n",
       "      <td>-0.103042</td>\n",
       "      <td>-0.162294</td>\n",
       "      <td>-33.323944</td>\n",
       "      <td>-70.512729</td>\n",
       "      <td>1396118148</td>\n",
       "      <td>Lo Barnechea</td>\n",
       "      <td>0.915742</td>\n",
       "      <td>1087.0</td>\n",
       "      <td>10</td>\n",
       "      <td>0.0092</td>\n",
       "      <td>ABC1</td>\n",
       "    </tr>\n",
       "  </tbody>\n",
       "</table>\n",
       "</div>"
      ],
      "text/plain": [
       "                         latlong  beautiful    boring  depressing    lively  \\\n",
       "0  -33.323944,-70.51263428391168  -0.306948  1.565049    0.572029 -1.137733   \n",
       "1         -33.323944,-70.5127291  -0.421388  0.309495    0.368965 -0.098733   \n",
       "\n",
       "       safe   wealthy        lat        lon     node_id      division  \\\n",
       "0 -0.120456 -0.561887 -33.323944 -70.512634  1396118148  Lo Barnechea   \n",
       "1 -0.103042 -0.162294 -33.323944 -70.512729  1396118148  Lo Barnechea   \n",
       "\n",
       "   prom_ismt  hogares  hog_40pct  pct_hog40p AVE_GSE  \n",
       "0   0.915742   1087.0         10      0.0092    ABC1  \n",
       "1   0.915742   1087.0         10      0.0092    ABC1  "
      ]
     },
     "execution_count": 2,
     "metadata": {},
     "output_type": "execute_result"
    }
   ],
   "source": [
    "nodos_santiago = pd.read_csv('Data/dataset_santiago_ismt.csv')\n",
    "nodos_santiago.head(2)"
   ]
  },
  {
   "cell_type": "code",
   "execution_count": 16,
   "metadata": {},
   "outputs": [
    {
     "data": {
      "text/plain": [
       "division\n",
       "Santiago               4468\n",
       "Ñuñoa                  3357\n",
       "Providencia            2750\n",
       "Recoleta               2740\n",
       "Estación Central       2581\n",
       "Quinta Normal          2447\n",
       "San Miguel             1965\n",
       "San Joaquín            1931\n",
       "Pedro Aguirre Cerda    1808\n",
       "Independencia          1417\n",
       "Name: count, dtype: int64"
      ]
     },
     "execution_count": 16,
     "metadata": {},
     "output_type": "execute_result"
    }
   ],
   "source": [
    "### commune filter\n",
    "# nodos_santiago = nodos_santiago[nodos_santiago.division.isin(['Santiago', 'Providencia', 'Ñuñoa', 'San Joaquín', 'San Miguel', 'Pedro Aguirre Cerda', 'Estación Central',\n",
    "#                                                               'Quinta Normal', 'Independencia', 'Recoleta'])]\n",
    "# nodos_santiago.division.value_counts()"
   ]
  },
  {
   "cell_type": "markdown",
   "metadata": {},
   "source": [
    "### Cambiar nombre comuna a int"
   ]
  },
  {
   "cell_type": "code",
   "execution_count": 3,
   "metadata": {},
   "outputs": [
    {
     "name": "stdout",
     "output_type": "stream",
     "text": [
      "          division  division_num\n",
      "0     Lo Barnechea            17\n",
      "3341      Vitacura            41\n",
      "3856        Colina             4\n",
      "3893     Quilicura            30\n",
      "4817         Lampa            15\n"
     ]
    }
   ],
   "source": [
    "nodos_santiago['division_num'] = pd.Categorical(nodos_santiago['division']).codes\n",
    "print(nodos_santiago[['division', 'division_num']].drop_duplicates()[:5])"
   ]
  },
  {
   "cell_type": "code",
   "execution_count": 4,
   "metadata": {},
   "outputs": [],
   "source": [
    "num2div = {}\n",
    "div2num = {}\n",
    "for _, row in nodos_santiago[['division', 'division_num']].drop_duplicates().iterrows():\n",
    "    num2div[row.division_num] = row.division\n",
    "    div2num[row.division] = row.division_num"
   ]
  },
  {
   "cell_type": "code",
   "execution_count": 5,
   "metadata": {},
   "outputs": [],
   "source": [
    "import pickle\n",
    "with open('Data/Comunas/division2numbers.pkl', 'wb') as fp:\n",
    "    pickle.dump(div2num, fp)\n",
    "with open('Data/Comunas/numbers2division.pkl', 'wb') as fp:\n",
    "    pickle.dump(num2div, fp)"
   ]
  },
  {
   "cell_type": "markdown",
   "metadata": {},
   "source": [
    "### Cambiar categoría GSE a int"
   ]
  },
  {
   "cell_type": "code",
   "execution_count": 19,
   "metadata": {},
   "outputs": [
    {
     "name": "stdout",
     "output_type": "stream",
     "text": [
      "      AVE_GSE  ave_gse_num\n",
      "10538       D            3\n",
      "18666      C2            1\n",
      "23497    ABC1            0\n",
      "28019      C3            2\n"
     ]
    }
   ],
   "source": [
    "nodos_santiago['ave_gse_num'] = pd.Categorical(nodos_santiago['AVE_GSE']).codes\n",
    "print(nodos_santiago[['AVE_GSE', 'ave_gse_num']].drop_duplicates()[:5])"
   ]
  },
  {
   "cell_type": "code",
   "execution_count": 20,
   "metadata": {},
   "outputs": [],
   "source": [
    "num2gse = {}\n",
    "gse2num = {}\n",
    "for _, row in nodos_santiago[['AVE_GSE', 'ave_gse_num']].drop_duplicates().iterrows():\n",
    "    num2gse[row.ave_gse_num] = row.AVE_GSE\n",
    "    gse2num[row.AVE_GSE] = row.ave_gse_num"
   ]
  },
  {
   "cell_type": "code",
   "execution_count": 8,
   "metadata": {},
   "outputs": [],
   "source": [
    "import pickle\n",
    "with open('Data/ISMT/gse2numbers.pkl', 'wb') as fp:\n",
    "    pickle.dump(gse2num, fp)\n",
    "with open('Data/ISMT/numbers2gse.pkl', 'wb') as fp:\n",
    "    pickle.dump(num2gse, fp)"
   ]
  },
  {
   "cell_type": "code",
   "execution_count": 21,
   "metadata": {},
   "outputs": [
    {
     "name": "stdout",
     "output_type": "stream",
     "text": [
      "Number of nodes: 355936\n",
      "Number of edges: 673565\n",
      "Number of strongly conncected components: 2450\n"
     ]
    }
   ],
   "source": [
    "G = ox.load_graphml(\"Maps/santiago_drive.graphml\")\n",
    "print(f'Number of nodes: {len(G.nodes())}')\n",
    "print(f'Number of edges: {len(G.edges())}')\n",
    "print(f'Number of strongly conncected components: {nx.number_strongly_connected_components(G)}')"
   ]
  },
  {
   "cell_type": "code",
   "execution_count": 22,
   "metadata": {},
   "outputs": [
    {
     "name": "stdout",
     "output_type": "stream",
     "text": [
      "99.259% of nodes in one component\n"
     ]
    }
   ],
   "source": [
    "components_length = [len(list(component)) for component in list(nx.strongly_connected_components(G))]\n",
    "components_length.sort(reverse=True)\n",
    "print(f\"{round(components_length[0]/len(G.nodes()),5) * 100}% of nodes in one component\")"
   ]
  },
  {
   "cell_type": "markdown",
   "metadata": {},
   "source": [
    "## Add values to the complementary nodes of the OSM Graph"
   ]
  },
  {
   "cell_type": "code",
   "execution_count": 21,
   "metadata": {},
   "outputs": [],
   "source": [
    "def get_nodes_attrs(G):\n",
    "    attributes = {}\n",
    "    for node, attrs in G.nodes.data():\n",
    "        #print(f\"Atributos de {node}: {', '.join(attrs.keys())}\")\n",
    "        for att in attrs.keys():\n",
    "            if att not in attributes:\n",
    "                attributes[att] = 0\n",
    "            attributes[att] += 1\n",
    "    return attributes\n",
    "\n",
    "def get_edges_attrs(G):\n",
    "    edges_atts = {}\n",
    "    for u, v, attr in G.edges.data():\n",
    "        for att in attr.keys():\n",
    "            if att not in edges_atts:\n",
    "                edges_atts[att] = 0\n",
    "            edges_atts[att] += 1\n",
    "    return edges_atts"
   ]
  },
  {
   "cell_type": "code",
   "execution_count": 28,
   "metadata": {},
   "outputs": [],
   "source": [
    "# Se agregan los atributos como \"boring\", \"lively\" etc. a los nodos existentes que se encuentran en el grafo G\n",
    "for _, row in nodos_santiago.iterrows():\n",
    "    G.add_node(row.node_id, beautiful=row.beautiful, boring=row.boring,\n",
    "               depressing=row.depressing, lively=row.lively,\n",
    "               safe=row.safe, wealthy=row.wealthy, division=row.division_num, ismt=row.prom_ismt,\n",
    "               houses=row.hogares, hog_40pct=row.hog_40pct, pct_hog40p=row.pct_hog40p, ave_gse= row.ave_gse_num)"
   ]
  },
  {
   "cell_type": "code",
   "execution_count": 29,
   "metadata": {},
   "outputs": [
    {
     "data": {
      "text/plain": [
       "{'beautiful': 17976,\n",
       " 'boring': 17976,\n",
       " 'depressing': 17976,\n",
       " 'lively': 17976,\n",
       " 'safe': 17976,\n",
       " 'wealthy': 17976,\n",
       " 'division': 17976,\n",
       " 'ismt': 17976,\n",
       " 'houses': 17976,\n",
       " 'hog_40pct': 17976,\n",
       " 'pct_hog40p': 17976,\n",
       " 'ave_gse': 17976}"
      ]
     },
     "execution_count": 29,
     "metadata": {},
     "output_type": "execute_result"
    }
   ],
   "source": [
    "get_nodes_attrs(G)"
   ]
  },
  {
   "cell_type": "code",
   "execution_count": 18,
   "metadata": {},
   "outputs": [],
   "source": [
    "# Eliminar atributos extras de OSM\n",
    "for node in G.nodes:\n",
    "    if 'ref' in G.nodes[node]:\n",
    "        G.nodes[node].pop('ref', None)\n",
    "    if 'highway' in G.nodes[node]:\n",
    "        G.nodes[node].pop('highway', None)\n",
    "    if 'street_count' in G.nodes[node]:\n",
    "        G.nodes[node].pop('street_count', None)"
   ]
  },
  {
   "cell_type": "code",
   "execution_count": 19,
   "metadata": {},
   "outputs": [],
   "source": [
    "for u, v, attr in G.edges.data():\n",
    "    for name in ['osmid', 'oneway', 'lanes', 'name', 'access', 'maxspeed', 'ref', 'bridge', 'junction', 'width', 'tunnel', 'osmid' 'oneway', 'highway', 'reversed', 'speed_kph']:\n",
    "        if name in attr:\n",
    "            del attr[name]"
   ]
  },
  {
   "cell_type": "code",
   "execution_count": 20,
   "metadata": {},
   "outputs": [
    {
     "data": {
      "text/plain": [
       "{'y': 355936,\n",
       " 'x': 355936,\n",
       " 'beautiful': 84252,\n",
       " 'boring': 84252,\n",
       " 'depressing': 84252,\n",
       " 'lively': 84252,\n",
       " 'safe': 84252,\n",
       " 'wealthy': 84252,\n",
       " 'division': 84252,\n",
       " 'ismt': 84252,\n",
       " 'houses': 84252,\n",
       " 'hog_40pct': 84252,\n",
       " 'pct_hog40p': 84252,\n",
       " 'ave_gse': 84252}"
      ]
     },
     "execution_count": 20,
     "metadata": {},
     "output_type": "execute_result"
    }
   ],
   "source": [
    "get_nodes_attrs(G)"
   ]
  },
  {
   "cell_type": "code",
   "execution_count": 42,
   "metadata": {},
   "outputs": [],
   "source": [
    "df_comunas = gpd.read_file('Data/Comunas/COMUNAS_2020.shp')\n",
    "df_ismt = gpd.read_file('Data/ISMT/ISMT.shp')\n",
    "santiago_division = df_comunas[df_comunas.CUT_REG == '13']\n",
    "\n",
    "def getDivision(point):\n",
    "    for div in santiago_division.geometry:\n",
    "        if point.within(div):\n",
    "            return div\n",
    "        \n",
    "def getIsmtData(point):\n",
    "    for com in df_ismt.geometry:\n",
    "        if point.within(com):\n",
    "            return com\n",
    "\n",
    "def setDivisionNum(division: str):\n",
    "    return div2num[division]\n",
    "\n",
    "def setGSENum(gse):\n",
    "    if gse in ['ABC1', 'C2', 'C3', 'D', 'E']:\n",
    "        return gse2num[gse]\n",
    "    return\n",
    "\n",
    "def geoDataProcess(df_extra):\n",
    "    # Obtener latitud y longitug\n",
    "    lats = []\n",
    "    lons = []\n",
    "    for _, row in df_extra.iterrows():\n",
    "        node = row.node_id\n",
    "        lats.append(G.nodes[node]['y'])\n",
    "        lons.append(G.nodes[node]['x'])\n",
    "    df_extra['lat'] = lats\n",
    "    df_extra['lon'] = lons\n",
    "\n",
    "    coords_point = gpd.GeoDataFrame(df_extra, geometry=gpd.points_from_xy(df_extra.lon,df_extra.lat))\n",
    "    coords_point['division'] = coords_point.geometry.apply(getDivision)\n",
    "    tqdm.pandas()\n",
    "    coords_point['geo_ismt'] = coords_point.geometry.progress_apply(getIsmtData)\n",
    "    \n",
    "    df_merge = coords_point.merge(santiago_division[['geometry', 'COMUNA']], left_on='division', right_on='geometry')\n",
    "    df_merge = df_merge.drop(['geometry_x', 'geometry_y', 'division'], axis=1)\n",
    "    df_merge = df_merge.rename({'COMUNA':'division'}, axis=1)\n",
    "    df_merge['division_num'] = df_merge.division.apply(setDivisionNum)\n",
    "    \n",
    "    df_merge = df_merge.merge(df_ismt[['geometry', 'prom_ismt', 'hogares', 'hog_40pct', 'pct_hog40p', 'AVE_GSE']], left_on='geo_ismt', right_on='geometry', how='left')\n",
    "    df_extra = df_merge.drop(['geometry', 'geo_ismt'], axis=1)\n",
    "    df_extra = df_extra.rename({'AVE_GSE':'ave_gse'}, axis=1)\n",
    "    df_extra['ave_gse_num'] = df_extra.ave_gse.apply(setGSENum)\n",
    "\n",
    "    return df_extra"
   ]
  },
  {
   "cell_type": "code",
   "execution_count": 43,
   "metadata": {},
   "outputs": [
    {
     "data": {
      "text/plain": [
       "355936"
      ]
     },
     "execution_count": 43,
     "metadata": {},
     "output_type": "execute_result"
    }
   ],
   "source": [
    "ls_nodos_santiago = list(nodos_santiago.node_id.unique())\n",
    "extra_nodes = list(set(G.nodes()) - set(ls_nodos_santiago))\n",
    "len(extra_nodes) + 84252"
   ]
  },
  {
   "cell_type": "markdown",
   "metadata": {},
   "source": [
    "## Zero Map"
   ]
  },
  {
   "cell_type": "code",
   "execution_count": 44,
   "metadata": {},
   "outputs": [
    {
     "name": "stdout",
     "output_type": "stream",
     "text": [
      "Number of nodes: 271684\n"
     ]
    },
    {
     "name": "stderr",
     "output_type": "stream",
     "text": [
      "100%|██████████| 271684/271684 [47:13<00:00, 95.90it/s] \n"
     ]
    }
   ],
   "source": [
    "# Setear valores de nodos extras en 0\n",
    "ls_nodos_santiago = list(nodos_santiago.node_id.unique())\n",
    "extra_nodes = list(set(G.nodes()) - set(ls_nodos_santiago))\n",
    "print(f\"Number of nodes: {len(extra_nodes)}\")\n",
    "beautiful_values = [0] * len(extra_nodes)\n",
    "boring_values = [0] * len(extra_nodes)\n",
    "depressing_values = [0] * len(extra_nodes)\n",
    "lively_values = [0] * len(extra_nodes)\n",
    "safe_values = [0] * len(extra_nodes)\n",
    "wealthy_values = [0] * len(extra_nodes)\n",
    "\n",
    "columns_name = ['node_id', 'beautiful', 'boring', 'depressing', 'lively', 'safe', 'wealthy']\n",
    "df_extra = pd.DataFrame(list(zip(extra_nodes, beautiful_values, boring_values, depressing_values,\n",
    "                                 lively_values, safe_values, wealthy_values)), columns=columns_name)\n",
    "\n",
    "\n",
    "df_extra = geoDataProcess(df_extra)"
   ]
  },
  {
   "cell_type": "code",
   "execution_count": 45,
   "metadata": {},
   "outputs": [
    {
     "data": {
      "text/html": [
       "<div>\n",
       "<style scoped>\n",
       "    .dataframe tbody tr th:only-of-type {\n",
       "        vertical-align: middle;\n",
       "    }\n",
       "\n",
       "    .dataframe tbody tr th {\n",
       "        vertical-align: top;\n",
       "    }\n",
       "\n",
       "    .dataframe thead th {\n",
       "        text-align: right;\n",
       "    }\n",
       "</style>\n",
       "<table border=\"1\" class=\"dataframe\">\n",
       "  <thead>\n",
       "    <tr style=\"text-align: right;\">\n",
       "      <th></th>\n",
       "      <th>node_id</th>\n",
       "      <th>beautiful</th>\n",
       "      <th>boring</th>\n",
       "      <th>depressing</th>\n",
       "      <th>lively</th>\n",
       "      <th>safe</th>\n",
       "      <th>wealthy</th>\n",
       "      <th>lat</th>\n",
       "      <th>lon</th>\n",
       "      <th>division</th>\n",
       "      <th>division_num</th>\n",
       "      <th>prom_ismt</th>\n",
       "      <th>hogares</th>\n",
       "      <th>hog_40pct</th>\n",
       "      <th>pct_hog40p</th>\n",
       "      <th>ave_gse</th>\n",
       "      <th>ave_gse_num</th>\n",
       "    </tr>\n",
       "  </thead>\n",
       "  <tbody>\n",
       "    <tr>\n",
       "      <th>0</th>\n",
       "      <td>9565110273</td>\n",
       "      <td>0</td>\n",
       "      <td>0</td>\n",
       "      <td>0</td>\n",
       "      <td>0</td>\n",
       "      <td>0</td>\n",
       "      <td>0</td>\n",
       "      <td>-33.600032</td>\n",
       "      <td>-70.591930</td>\n",
       "      <td>Puente Alto</td>\n",
       "      <td>29</td>\n",
       "      <td>0.851613</td>\n",
       "      <td>1305.0</td>\n",
       "      <td>206.0</td>\n",
       "      <td>0.157854</td>\n",
       "      <td>C2</td>\n",
       "      <td>1.0</td>\n",
       "    </tr>\n",
       "    <tr>\n",
       "      <th>1</th>\n",
       "      <td>9565110274</td>\n",
       "      <td>0</td>\n",
       "      <td>0</td>\n",
       "      <td>0</td>\n",
       "      <td>0</td>\n",
       "      <td>0</td>\n",
       "      <td>0</td>\n",
       "      <td>-33.599970</td>\n",
       "      <td>-70.591940</td>\n",
       "      <td>Puente Alto</td>\n",
       "      <td>29</td>\n",
       "      <td>0.851613</td>\n",
       "      <td>1305.0</td>\n",
       "      <td>206.0</td>\n",
       "      <td>0.157854</td>\n",
       "      <td>C2</td>\n",
       "      <td>1.0</td>\n",
       "    </tr>\n",
       "    <tr>\n",
       "      <th>2</th>\n",
       "      <td>2393618954</td>\n",
       "      <td>0</td>\n",
       "      <td>0</td>\n",
       "      <td>0</td>\n",
       "      <td>0</td>\n",
       "      <td>0</td>\n",
       "      <td>0</td>\n",
       "      <td>-33.580565</td>\n",
       "      <td>-70.605937</td>\n",
       "      <td>Puente Alto</td>\n",
       "      <td>29</td>\n",
       "      <td>0.778635</td>\n",
       "      <td>1336.0</td>\n",
       "      <td>683.0</td>\n",
       "      <td>0.511228</td>\n",
       "      <td>D</td>\n",
       "      <td>3.0</td>\n",
       "    </tr>\n",
       "    <tr>\n",
       "      <th>3</th>\n",
       "      <td>9565110275</td>\n",
       "      <td>0</td>\n",
       "      <td>0</td>\n",
       "      <td>0</td>\n",
       "      <td>0</td>\n",
       "      <td>0</td>\n",
       "      <td>0</td>\n",
       "      <td>-33.600001</td>\n",
       "      <td>-70.591939</td>\n",
       "      <td>Puente Alto</td>\n",
       "      <td>29</td>\n",
       "      <td>0.851613</td>\n",
       "      <td>1305.0</td>\n",
       "      <td>206.0</td>\n",
       "      <td>0.157854</td>\n",
       "      <td>C2</td>\n",
       "      <td>1.0</td>\n",
       "    </tr>\n",
       "    <tr>\n",
       "      <th>4</th>\n",
       "      <td>9538837257</td>\n",
       "      <td>0</td>\n",
       "      <td>0</td>\n",
       "      <td>0</td>\n",
       "      <td>0</td>\n",
       "      <td>0</td>\n",
       "      <td>0</td>\n",
       "      <td>-33.621177</td>\n",
       "      <td>-70.586392</td>\n",
       "      <td>Puente Alto</td>\n",
       "      <td>29</td>\n",
       "      <td>0.749758</td>\n",
       "      <td>1133.0</td>\n",
       "      <td>741.0</td>\n",
       "      <td>0.654016</td>\n",
       "      <td>D</td>\n",
       "      <td>3.0</td>\n",
       "    </tr>\n",
       "    <tr>\n",
       "      <th>...</th>\n",
       "      <td>...</td>\n",
       "      <td>...</td>\n",
       "      <td>...</td>\n",
       "      <td>...</td>\n",
       "      <td>...</td>\n",
       "      <td>...</td>\n",
       "      <td>...</td>\n",
       "      <td>...</td>\n",
       "      <td>...</td>\n",
       "      <td>...</td>\n",
       "      <td>...</td>\n",
       "      <td>...</td>\n",
       "      <td>...</td>\n",
       "      <td>...</td>\n",
       "      <td>...</td>\n",
       "      <td>...</td>\n",
       "      <td>...</td>\n",
       "    </tr>\n",
       "    <tr>\n",
       "      <th>271679</th>\n",
       "      <td>602912427</td>\n",
       "      <td>0</td>\n",
       "      <td>0</td>\n",
       "      <td>0</td>\n",
       "      <td>0</td>\n",
       "      <td>0</td>\n",
       "      <td>0</td>\n",
       "      <td>-33.327393</td>\n",
       "      <td>-70.624826</td>\n",
       "      <td>Colina</td>\n",
       "      <td>4</td>\n",
       "      <td>NaN</td>\n",
       "      <td>NaN</td>\n",
       "      <td>NaN</td>\n",
       "      <td>NaN</td>\n",
       "      <td>NaN</td>\n",
       "      <td>NaN</td>\n",
       "    </tr>\n",
       "    <tr>\n",
       "      <th>271680</th>\n",
       "      <td>602912428</td>\n",
       "      <td>0</td>\n",
       "      <td>0</td>\n",
       "      <td>0</td>\n",
       "      <td>0</td>\n",
       "      <td>0</td>\n",
       "      <td>0</td>\n",
       "      <td>-33.327083</td>\n",
       "      <td>-70.624610</td>\n",
       "      <td>Colina</td>\n",
       "      <td>4</td>\n",
       "      <td>NaN</td>\n",
       "      <td>NaN</td>\n",
       "      <td>NaN</td>\n",
       "      <td>NaN</td>\n",
       "      <td>NaN</td>\n",
       "      <td>NaN</td>\n",
       "    </tr>\n",
       "    <tr>\n",
       "      <th>271681</th>\n",
       "      <td>602914409</td>\n",
       "      <td>0</td>\n",
       "      <td>0</td>\n",
       "      <td>0</td>\n",
       "      <td>0</td>\n",
       "      <td>0</td>\n",
       "      <td>0</td>\n",
       "      <td>-33.330418</td>\n",
       "      <td>-70.627947</td>\n",
       "      <td>Colina</td>\n",
       "      <td>4</td>\n",
       "      <td>NaN</td>\n",
       "      <td>NaN</td>\n",
       "      <td>NaN</td>\n",
       "      <td>NaN</td>\n",
       "      <td>NaN</td>\n",
       "      <td>NaN</td>\n",
       "    </tr>\n",
       "    <tr>\n",
       "      <th>271682</th>\n",
       "      <td>602914410</td>\n",
       "      <td>0</td>\n",
       "      <td>0</td>\n",
       "      <td>0</td>\n",
       "      <td>0</td>\n",
       "      <td>0</td>\n",
       "      <td>0</td>\n",
       "      <td>-33.329770</td>\n",
       "      <td>-70.627731</td>\n",
       "      <td>Colina</td>\n",
       "      <td>4</td>\n",
       "      <td>NaN</td>\n",
       "      <td>NaN</td>\n",
       "      <td>NaN</td>\n",
       "      <td>NaN</td>\n",
       "      <td>NaN</td>\n",
       "      <td>NaN</td>\n",
       "    </tr>\n",
       "    <tr>\n",
       "      <th>271683</th>\n",
       "      <td>602914411</td>\n",
       "      <td>0</td>\n",
       "      <td>0</td>\n",
       "      <td>0</td>\n",
       "      <td>0</td>\n",
       "      <td>0</td>\n",
       "      <td>0</td>\n",
       "      <td>-33.329459</td>\n",
       "      <td>-70.627532</td>\n",
       "      <td>Colina</td>\n",
       "      <td>4</td>\n",
       "      <td>NaN</td>\n",
       "      <td>NaN</td>\n",
       "      <td>NaN</td>\n",
       "      <td>NaN</td>\n",
       "      <td>NaN</td>\n",
       "      <td>NaN</td>\n",
       "    </tr>\n",
       "  </tbody>\n",
       "</table>\n",
       "<p>271684 rows × 17 columns</p>\n",
       "</div>"
      ],
      "text/plain": [
       "           node_id  beautiful  boring  depressing  lively  safe  wealthy  \\\n",
       "0       9565110273          0       0           0       0     0        0   \n",
       "1       9565110274          0       0           0       0     0        0   \n",
       "2       2393618954          0       0           0       0     0        0   \n",
       "3       9565110275          0       0           0       0     0        0   \n",
       "4       9538837257          0       0           0       0     0        0   \n",
       "...            ...        ...     ...         ...     ...   ...      ...   \n",
       "271679   602912427          0       0           0       0     0        0   \n",
       "271680   602912428          0       0           0       0     0        0   \n",
       "271681   602914409          0       0           0       0     0        0   \n",
       "271682   602914410          0       0           0       0     0        0   \n",
       "271683   602914411          0       0           0       0     0        0   \n",
       "\n",
       "              lat        lon     division  division_num  prom_ismt  hogares  \\\n",
       "0      -33.600032 -70.591930  Puente Alto            29   0.851613   1305.0   \n",
       "1      -33.599970 -70.591940  Puente Alto            29   0.851613   1305.0   \n",
       "2      -33.580565 -70.605937  Puente Alto            29   0.778635   1336.0   \n",
       "3      -33.600001 -70.591939  Puente Alto            29   0.851613   1305.0   \n",
       "4      -33.621177 -70.586392  Puente Alto            29   0.749758   1133.0   \n",
       "...           ...        ...          ...           ...        ...      ...   \n",
       "271679 -33.327393 -70.624826       Colina             4        NaN      NaN   \n",
       "271680 -33.327083 -70.624610       Colina             4        NaN      NaN   \n",
       "271681 -33.330418 -70.627947       Colina             4        NaN      NaN   \n",
       "271682 -33.329770 -70.627731       Colina             4        NaN      NaN   \n",
       "271683 -33.329459 -70.627532       Colina             4        NaN      NaN   \n",
       "\n",
       "        hog_40pct  pct_hog40p ave_gse  ave_gse_num  \n",
       "0           206.0    0.157854      C2          1.0  \n",
       "1           206.0    0.157854      C2          1.0  \n",
       "2           683.0    0.511228       D          3.0  \n",
       "3           206.0    0.157854      C2          1.0  \n",
       "4           741.0    0.654016       D          3.0  \n",
       "...           ...         ...     ...          ...  \n",
       "271679        NaN         NaN     NaN          NaN  \n",
       "271680        NaN         NaN     NaN          NaN  \n",
       "271681        NaN         NaN     NaN          NaN  \n",
       "271682        NaN         NaN     NaN          NaN  \n",
       "271683        NaN         NaN     NaN          NaN  \n",
       "\n",
       "[271684 rows x 17 columns]"
      ]
     },
     "execution_count": 45,
     "metadata": {},
     "output_type": "execute_result"
    }
   ],
   "source": [
    "df_extra"
   ]
  },
  {
   "cell_type": "code",
   "execution_count": 46,
   "metadata": {},
   "outputs": [],
   "source": [
    "df_extra['ave_gse_num'] = df_extra.ave_gse_num.fillna(-1)\n",
    "df_extra = df_extra.fillna(0)\n"
   ]
  },
  {
   "cell_type": "code",
   "execution_count": 47,
   "metadata": {},
   "outputs": [
    {
     "data": {
      "text/html": [
       "<div>\n",
       "<style scoped>\n",
       "    .dataframe tbody tr th:only-of-type {\n",
       "        vertical-align: middle;\n",
       "    }\n",
       "\n",
       "    .dataframe tbody tr th {\n",
       "        vertical-align: top;\n",
       "    }\n",
       "\n",
       "    .dataframe thead th {\n",
       "        text-align: right;\n",
       "    }\n",
       "</style>\n",
       "<table border=\"1\" class=\"dataframe\">\n",
       "  <thead>\n",
       "    <tr style=\"text-align: right;\">\n",
       "      <th></th>\n",
       "      <th>node_id</th>\n",
       "      <th>beautiful</th>\n",
       "      <th>boring</th>\n",
       "      <th>depressing</th>\n",
       "      <th>lively</th>\n",
       "      <th>safe</th>\n",
       "      <th>wealthy</th>\n",
       "      <th>lat</th>\n",
       "      <th>lon</th>\n",
       "      <th>division</th>\n",
       "      <th>division_num</th>\n",
       "      <th>prom_ismt</th>\n",
       "      <th>hogares</th>\n",
       "      <th>hog_40pct</th>\n",
       "      <th>pct_hog40p</th>\n",
       "      <th>ave_gse</th>\n",
       "      <th>ave_gse_num</th>\n",
       "    </tr>\n",
       "  </thead>\n",
       "  <tbody>\n",
       "    <tr>\n",
       "      <th>0</th>\n",
       "      <td>9565110273</td>\n",
       "      <td>0</td>\n",
       "      <td>0</td>\n",
       "      <td>0</td>\n",
       "      <td>0</td>\n",
       "      <td>0</td>\n",
       "      <td>0</td>\n",
       "      <td>-33.600032</td>\n",
       "      <td>-70.591930</td>\n",
       "      <td>Puente Alto</td>\n",
       "      <td>29</td>\n",
       "      <td>0.851613</td>\n",
       "      <td>1305.0</td>\n",
       "      <td>206.0</td>\n",
       "      <td>0.157854</td>\n",
       "      <td>C2</td>\n",
       "      <td>1.0</td>\n",
       "    </tr>\n",
       "    <tr>\n",
       "      <th>1</th>\n",
       "      <td>9565110274</td>\n",
       "      <td>0</td>\n",
       "      <td>0</td>\n",
       "      <td>0</td>\n",
       "      <td>0</td>\n",
       "      <td>0</td>\n",
       "      <td>0</td>\n",
       "      <td>-33.599970</td>\n",
       "      <td>-70.591940</td>\n",
       "      <td>Puente Alto</td>\n",
       "      <td>29</td>\n",
       "      <td>0.851613</td>\n",
       "      <td>1305.0</td>\n",
       "      <td>206.0</td>\n",
       "      <td>0.157854</td>\n",
       "      <td>C2</td>\n",
       "      <td>1.0</td>\n",
       "    </tr>\n",
       "    <tr>\n",
       "      <th>2</th>\n",
       "      <td>2393618954</td>\n",
       "      <td>0</td>\n",
       "      <td>0</td>\n",
       "      <td>0</td>\n",
       "      <td>0</td>\n",
       "      <td>0</td>\n",
       "      <td>0</td>\n",
       "      <td>-33.580565</td>\n",
       "      <td>-70.605937</td>\n",
       "      <td>Puente Alto</td>\n",
       "      <td>29</td>\n",
       "      <td>0.778635</td>\n",
       "      <td>1336.0</td>\n",
       "      <td>683.0</td>\n",
       "      <td>0.511228</td>\n",
       "      <td>D</td>\n",
       "      <td>3.0</td>\n",
       "    </tr>\n",
       "    <tr>\n",
       "      <th>3</th>\n",
       "      <td>9565110275</td>\n",
       "      <td>0</td>\n",
       "      <td>0</td>\n",
       "      <td>0</td>\n",
       "      <td>0</td>\n",
       "      <td>0</td>\n",
       "      <td>0</td>\n",
       "      <td>-33.600001</td>\n",
       "      <td>-70.591939</td>\n",
       "      <td>Puente Alto</td>\n",
       "      <td>29</td>\n",
       "      <td>0.851613</td>\n",
       "      <td>1305.0</td>\n",
       "      <td>206.0</td>\n",
       "      <td>0.157854</td>\n",
       "      <td>C2</td>\n",
       "      <td>1.0</td>\n",
       "    </tr>\n",
       "    <tr>\n",
       "      <th>4</th>\n",
       "      <td>9538837257</td>\n",
       "      <td>0</td>\n",
       "      <td>0</td>\n",
       "      <td>0</td>\n",
       "      <td>0</td>\n",
       "      <td>0</td>\n",
       "      <td>0</td>\n",
       "      <td>-33.621177</td>\n",
       "      <td>-70.586392</td>\n",
       "      <td>Puente Alto</td>\n",
       "      <td>29</td>\n",
       "      <td>0.749758</td>\n",
       "      <td>1133.0</td>\n",
       "      <td>741.0</td>\n",
       "      <td>0.654016</td>\n",
       "      <td>D</td>\n",
       "      <td>3.0</td>\n",
       "    </tr>\n",
       "    <tr>\n",
       "      <th>...</th>\n",
       "      <td>...</td>\n",
       "      <td>...</td>\n",
       "      <td>...</td>\n",
       "      <td>...</td>\n",
       "      <td>...</td>\n",
       "      <td>...</td>\n",
       "      <td>...</td>\n",
       "      <td>...</td>\n",
       "      <td>...</td>\n",
       "      <td>...</td>\n",
       "      <td>...</td>\n",
       "      <td>...</td>\n",
       "      <td>...</td>\n",
       "      <td>...</td>\n",
       "      <td>...</td>\n",
       "      <td>...</td>\n",
       "      <td>...</td>\n",
       "    </tr>\n",
       "    <tr>\n",
       "      <th>271679</th>\n",
       "      <td>602912427</td>\n",
       "      <td>0</td>\n",
       "      <td>0</td>\n",
       "      <td>0</td>\n",
       "      <td>0</td>\n",
       "      <td>0</td>\n",
       "      <td>0</td>\n",
       "      <td>-33.327393</td>\n",
       "      <td>-70.624826</td>\n",
       "      <td>Colina</td>\n",
       "      <td>4</td>\n",
       "      <td>0.000000</td>\n",
       "      <td>0.0</td>\n",
       "      <td>0.0</td>\n",
       "      <td>0.000000</td>\n",
       "      <td>0</td>\n",
       "      <td>-1.0</td>\n",
       "    </tr>\n",
       "    <tr>\n",
       "      <th>271680</th>\n",
       "      <td>602912428</td>\n",
       "      <td>0</td>\n",
       "      <td>0</td>\n",
       "      <td>0</td>\n",
       "      <td>0</td>\n",
       "      <td>0</td>\n",
       "      <td>0</td>\n",
       "      <td>-33.327083</td>\n",
       "      <td>-70.624610</td>\n",
       "      <td>Colina</td>\n",
       "      <td>4</td>\n",
       "      <td>0.000000</td>\n",
       "      <td>0.0</td>\n",
       "      <td>0.0</td>\n",
       "      <td>0.000000</td>\n",
       "      <td>0</td>\n",
       "      <td>-1.0</td>\n",
       "    </tr>\n",
       "    <tr>\n",
       "      <th>271681</th>\n",
       "      <td>602914409</td>\n",
       "      <td>0</td>\n",
       "      <td>0</td>\n",
       "      <td>0</td>\n",
       "      <td>0</td>\n",
       "      <td>0</td>\n",
       "      <td>0</td>\n",
       "      <td>-33.330418</td>\n",
       "      <td>-70.627947</td>\n",
       "      <td>Colina</td>\n",
       "      <td>4</td>\n",
       "      <td>0.000000</td>\n",
       "      <td>0.0</td>\n",
       "      <td>0.0</td>\n",
       "      <td>0.000000</td>\n",
       "      <td>0</td>\n",
       "      <td>-1.0</td>\n",
       "    </tr>\n",
       "    <tr>\n",
       "      <th>271682</th>\n",
       "      <td>602914410</td>\n",
       "      <td>0</td>\n",
       "      <td>0</td>\n",
       "      <td>0</td>\n",
       "      <td>0</td>\n",
       "      <td>0</td>\n",
       "      <td>0</td>\n",
       "      <td>-33.329770</td>\n",
       "      <td>-70.627731</td>\n",
       "      <td>Colina</td>\n",
       "      <td>4</td>\n",
       "      <td>0.000000</td>\n",
       "      <td>0.0</td>\n",
       "      <td>0.0</td>\n",
       "      <td>0.000000</td>\n",
       "      <td>0</td>\n",
       "      <td>-1.0</td>\n",
       "    </tr>\n",
       "    <tr>\n",
       "      <th>271683</th>\n",
       "      <td>602914411</td>\n",
       "      <td>0</td>\n",
       "      <td>0</td>\n",
       "      <td>0</td>\n",
       "      <td>0</td>\n",
       "      <td>0</td>\n",
       "      <td>0</td>\n",
       "      <td>-33.329459</td>\n",
       "      <td>-70.627532</td>\n",
       "      <td>Colina</td>\n",
       "      <td>4</td>\n",
       "      <td>0.000000</td>\n",
       "      <td>0.0</td>\n",
       "      <td>0.0</td>\n",
       "      <td>0.000000</td>\n",
       "      <td>0</td>\n",
       "      <td>-1.0</td>\n",
       "    </tr>\n",
       "  </tbody>\n",
       "</table>\n",
       "<p>271684 rows × 17 columns</p>\n",
       "</div>"
      ],
      "text/plain": [
       "           node_id  beautiful  boring  depressing  lively  safe  wealthy  \\\n",
       "0       9565110273          0       0           0       0     0        0   \n",
       "1       9565110274          0       0           0       0     0        0   \n",
       "2       2393618954          0       0           0       0     0        0   \n",
       "3       9565110275          0       0           0       0     0        0   \n",
       "4       9538837257          0       0           0       0     0        0   \n",
       "...            ...        ...     ...         ...     ...   ...      ...   \n",
       "271679   602912427          0       0           0       0     0        0   \n",
       "271680   602912428          0       0           0       0     0        0   \n",
       "271681   602914409          0       0           0       0     0        0   \n",
       "271682   602914410          0       0           0       0     0        0   \n",
       "271683   602914411          0       0           0       0     0        0   \n",
       "\n",
       "              lat        lon     division  division_num  prom_ismt  hogares  \\\n",
       "0      -33.600032 -70.591930  Puente Alto            29   0.851613   1305.0   \n",
       "1      -33.599970 -70.591940  Puente Alto            29   0.851613   1305.0   \n",
       "2      -33.580565 -70.605937  Puente Alto            29   0.778635   1336.0   \n",
       "3      -33.600001 -70.591939  Puente Alto            29   0.851613   1305.0   \n",
       "4      -33.621177 -70.586392  Puente Alto            29   0.749758   1133.0   \n",
       "...           ...        ...          ...           ...        ...      ...   \n",
       "271679 -33.327393 -70.624826       Colina             4   0.000000      0.0   \n",
       "271680 -33.327083 -70.624610       Colina             4   0.000000      0.0   \n",
       "271681 -33.330418 -70.627947       Colina             4   0.000000      0.0   \n",
       "271682 -33.329770 -70.627731       Colina             4   0.000000      0.0   \n",
       "271683 -33.329459 -70.627532       Colina             4   0.000000      0.0   \n",
       "\n",
       "        hog_40pct  pct_hog40p ave_gse  ave_gse_num  \n",
       "0           206.0    0.157854      C2          1.0  \n",
       "1           206.0    0.157854      C2          1.0  \n",
       "2           683.0    0.511228       D          3.0  \n",
       "3           206.0    0.157854      C2          1.0  \n",
       "4           741.0    0.654016       D          3.0  \n",
       "...           ...         ...     ...          ...  \n",
       "271679        0.0    0.000000       0         -1.0  \n",
       "271680        0.0    0.000000       0         -1.0  \n",
       "271681        0.0    0.000000       0         -1.0  \n",
       "271682        0.0    0.000000       0         -1.0  \n",
       "271683        0.0    0.000000       0         -1.0  \n",
       "\n",
       "[271684 rows x 17 columns]"
      ]
     },
     "execution_count": 47,
     "metadata": {},
     "output_type": "execute_result"
    }
   ],
   "source": [
    "df_extra"
   ]
  },
  {
   "cell_type": "code",
   "execution_count": 48,
   "metadata": {},
   "outputs": [
    {
     "name": "stderr",
     "output_type": "stream",
     "text": [
      "271684it [00:21, 12819.64it/s]\n"
     ]
    }
   ],
   "source": [
    "for _, row in tqdm(df_extra.iterrows()):\n",
    "    G.add_node(row.node_id, beautiful=row.beautiful, boring=row.boring,\n",
    "               depressing=row.depressing, lively=row.lively,\n",
    "               safe=row.safe, wealthy=row.wealthy, division=row.division_num, ismt=row.prom_ismt,\n",
    "               houses=row.hogares, hog_40pct=row.hog_40pct, pct_hog40p=row.pct_hog40p, ave_gse= row.ave_gse_num)"
   ]
  },
  {
   "cell_type": "code",
   "execution_count": 31,
   "metadata": {},
   "outputs": [
    {
     "data": {
      "text/plain": [
       "{'1.0': 63825,\n",
       " '1': 17667,\n",
       " '2.0': 56542,\n",
       " '3': 38340,\n",
       " '0.0': 40026,\n",
       " '0': 9517,\n",
       " '3.0': 91886,\n",
       " '2': 18574,\n",
       " '-1.0': 18562,\n",
       " '4.0': 843,\n",
       " '4': 154}"
      ]
     },
     "execution_count": 31,
     "metadata": {},
     "output_type": "execute_result"
    }
   ],
   "source": [
    "nodes_gse = {}\n",
    "nodes_without_label = []\n",
    "for node, att in G.nodes(data=True):\n",
    "    gse = att['ave_gse']\n",
    "    if gse not in nodes_gse:\n",
    "        nodes_gse[gse] = 0\n",
    "    nodes_gse[gse] += 1\n",
    "    if gse == '-1.0':\n",
    "        nodes_without_label.append(node)\n",
    "nodes_gse"
   ]
  },
  {
   "cell_type": "code",
   "execution_count": 32,
   "metadata": {},
   "outputs": [
    {
     "name": "stdout",
     "output_type": "stream",
     "text": [
      "Nodes to remove: 18562\n"
     ]
    }
   ],
   "source": [
    "print(f'Nodes to remove: {len(nodes_without_label)}')\n",
    "G.remove_nodes_from(nodes_without_label)"
   ]
  },
  {
   "cell_type": "code",
   "execution_count": 33,
   "metadata": {},
   "outputs": [],
   "source": [
    "nodes_ls = list(G.nodes())\n",
    "c=0\n",
    "dic_nodes = {}\n",
    "for node in nodes_ls:\n",
    "    dic_nodes[node] = c\n",
    "    c+=1\n",
    "\n",
    "G = nx.relabel_nodes(G, dic_nodes)"
   ]
  },
  {
   "cell_type": "code",
   "execution_count": 7,
   "metadata": {},
   "outputs": [
    {
     "data": {
      "text/plain": [
       "{'y': 337374,\n",
       " 'x': 337374,\n",
       " 'beautiful': 337374,\n",
       " 'boring': 337374,\n",
       " 'depressing': 337374,\n",
       " 'lively': 337374,\n",
       " 'safe': 337374,\n",
       " 'wealthy': 337374,\n",
       " 'division': 337374,\n",
       " 'ismt': 337374,\n",
       " 'houses': 337374,\n",
       " 'hog_40pct': 337374,\n",
       " 'pct_hog40p': 337374,\n",
       " 'ave_gse': 337374}"
      ]
     },
     "execution_count": 7,
     "metadata": {},
     "output_type": "execute_result"
    }
   ],
   "source": [
    "get_nodes_attrs(G)"
   ]
  },
  {
   "cell_type": "code",
   "execution_count": 35,
   "metadata": {},
   "outputs": [],
   "source": [
    "#ox.save_graphml(G, \"Maps/santiago_drive_zero.graphml\")"
   ]
  },
  {
   "cell_type": "code",
   "execution_count": 5,
   "metadata": {},
   "outputs": [],
   "source": [
    "G = ox.load_graphml(\"Maps/santiago_drive_zero.graphml\")"
   ]
  },
  {
   "cell_type": "code",
   "execution_count": 37,
   "metadata": {},
   "outputs": [
    {
     "name": "stdout",
     "output_type": "stream",
     "text": [
      "Number of nodes: 337374\n",
      "Number of edges: 641693\n",
      "Number of edge attributes: 641693\n",
      "Size of x tensor: torch.Size([337374, 14])\n",
      "Size of edge_index tensor: torch.Size([2, 641693])\n",
      "Size of edge_attributes tensor: torch.Size([641693, 2])\n",
      "Graph saved as PyTorch in Data/santiago_zero_ismt.pt\n"
     ]
    }
   ],
   "source": [
    "createPytorchData(G, file_name='santiago_zero_ismt')"
   ]
  },
  {
   "cell_type": "markdown",
   "metadata": {},
   "source": [
    "## Filter Divisions"
   ]
  },
  {
   "cell_type": "code",
   "execution_count": 7,
   "metadata": {},
   "outputs": [
    {
     "data": {
      "text/plain": [
       "[39, 27, 42, 35, 37, 23, 7, 31, 9, 32]"
      ]
     },
     "execution_count": 7,
     "metadata": {},
     "output_type": "execute_result"
    }
   ],
   "source": [
    "numbers_commune_filter = []\n",
    "divisions = ['Santiago', 'Providencia', 'Ñuñoa', 'San Joaquín', 'San Miguel', 'Pedro Aguirre Cerda', 'Estación Central', 'Quinta Normal', 'Independencia', 'Recoleta']\n",
    "for elem in divisions:\n",
    "    numbers_commune_filter.append(div2num[elem])\n",
    "\n",
    "numbers_commune_filter"
   ]
  },
  {
   "cell_type": "code",
   "execution_count": 19,
   "metadata": {},
   "outputs": [
    {
     "name": "stdout",
     "output_type": "stream",
     "text": [
      "Nodes reduced from 337374 to 56766\n"
     ]
    },
    {
     "data": {
      "text/plain": [
       "56766"
      ]
     },
     "execution_count": 19,
     "metadata": {},
     "output_type": "execute_result"
    }
   ],
   "source": [
    "nodes_to_remove = []\n",
    "for node, attrs in G.nodes(data=True):\n",
    "    if int(attrs['division']) not in numbers_commune_filter:\n",
    "        nodes_to_remove.append(node)\n",
    "\n",
    "print(f\"Nodes reduced from {len(list(G.nodes()))} to {len(list(G.nodes())) - len(nodes_to_remove)}\")\n",
    "G.remove_nodes_from(nodes_to_remove)\n",
    "len(list(G.nodes()))"
   ]
  },
  {
   "cell_type": "code",
   "execution_count": 22,
   "metadata": {},
   "outputs": [
    {
     "data": {
      "text/plain": [
       "{'y': 56766,\n",
       " 'x': 56766,\n",
       " 'beautiful': 56766,\n",
       " 'boring': 56766,\n",
       " 'depressing': 56766,\n",
       " 'lively': 56766,\n",
       " 'safe': 56766,\n",
       " 'wealthy': 56766,\n",
       " 'division': 56766,\n",
       " 'ismt': 56766,\n",
       " 'houses': 56766,\n",
       " 'hog_40pct': 56766,\n",
       " 'pct_hog40p': 56766,\n",
       " 'ave_gse': 56766}"
      ]
     },
     "execution_count": 22,
     "metadata": {},
     "output_type": "execute_result"
    }
   ],
   "source": [
    "get_nodes_attrs(G)"
   ]
  },
  {
   "cell_type": "code",
   "execution_count": 23,
   "metadata": {},
   "outputs": [
    {
     "data": {
      "text/plain": [
       "{'length': 96737, 'travel_time': 96737}"
      ]
     },
     "execution_count": 23,
     "metadata": {},
     "output_type": "execute_result"
    }
   ],
   "source": [
    "get_edges_attrs(G)"
   ]
  },
  {
   "cell_type": "code",
   "execution_count": 26,
   "metadata": {},
   "outputs": [],
   "source": [
    "nodes_ls = list(G.nodes())\n",
    "c=0\n",
    "dic_nodes = {}\n",
    "for node in nodes_ls:\n",
    "    dic_nodes[node] = c\n",
    "    c+=1\n",
    "\n",
    "G = nx.relabel_nodes(G, dic_nodes)"
   ]
  },
  {
   "cell_type": "code",
   "execution_count": 27,
   "metadata": {},
   "outputs": [],
   "source": [
    "#ox.save_graphml(G, \"Maps/santiago_downtown.graphml\")"
   ]
  },
  {
   "cell_type": "code",
   "execution_count": 28,
   "metadata": {},
   "outputs": [
    {
     "name": "stdout",
     "output_type": "stream",
     "text": [
      "Number of nodes: 56766\n",
      "Number of edges: 96737\n",
      "Number of edge attributes: 96737\n",
      "Size of x tensor: torch.Size([56766, 14])\n",
      "Size of edge_index tensor: torch.Size([2, 96737])\n",
      "Size of edge_attributes tensor: torch.Size([96737, 2])\n",
      "Graph saved as PyTorch in Data/santiago_downtown_ismt.pt\n"
     ]
    }
   ],
   "source": [
    "createPytorchData(G, file_name='santiago_downtown_ismt')"
   ]
  },
  {
   "cell_type": "markdown",
   "metadata": {},
   "source": [
    "## Mean Global"
   ]
  },
  {
   "cell_type": "code",
   "execution_count": 35,
   "metadata": {},
   "outputs": [],
   "source": [
    "# Setear valores de nodos extras en media global\n",
    "ls_nodos_santiago = list(nodos_santiago.node_id.unique())\n",
    "extra_nodes = list(set(G.nodes()) - set(ls_nodos_santiago))\n",
    "\n",
    "beautiful_values = [nodos_santiago['beautiful'].median()] * len(extra_nodes)\n",
    "boring_values = [nodos_santiago['boring'].median()] * len(extra_nodes)\n",
    "depressing_values = [nodos_santiago['depressing'].median()] * len(extra_nodes)\n",
    "lively_values = [nodos_santiago['lively'].median()] * len(extra_nodes)\n",
    "safe_values = [nodos_santiago['safe'].median()] * len(extra_nodes)\n",
    "wealthy_values = [nodos_santiago['wealthy'].median()] * len(extra_nodes)\n",
    "\n",
    "columns_name = ['node_id', 'beautiful', 'boring', 'depressing', 'lively', 'safe', 'wealthy']\n",
    "df_extra = pd.DataFrame(list(zip(extra_nodes, beautiful_values, boring_values, depressing_values,\n",
    "                                 lively_values, safe_values, wealthy_values)), columns=columns_name)\n",
    "\n",
    "\n",
    "df_extra = geoDataProcess(df_extra)"
   ]
  },
  {
   "cell_type": "code",
   "execution_count": 37,
   "metadata": {},
   "outputs": [
    {
     "name": "stderr",
     "output_type": "stream",
     "text": [
      "268038it [00:18, 14178.12it/s]\n"
     ]
    }
   ],
   "source": [
    "for _, row in tqdm(df_extra.iterrows()):\n",
    "    G.add_node(row.node_id, beautiful=row.beautiful, boring=row.boring,\n",
    "               depressing=row.depressing, lively=row.lively,\n",
    "               safe=row.safe, wealthy=row.wealthy, comuna=row.comuna_num)"
   ]
  },
  {
   "cell_type": "code",
   "execution_count": 38,
   "metadata": {},
   "outputs": [],
   "source": [
    "ox.save_graphml(G, \"Maps/santiago_drive_global_mean.graphml\")"
   ]
  },
  {
   "cell_type": "code",
   "execution_count": 39,
   "metadata": {},
   "outputs": [
    {
     "name": "stdout",
     "output_type": "stream",
     "text": [
      "Number of nodes: 355936\n",
      "Number of edges: 673565\n",
      "Number of edge attributes: 673565\n",
      "Size of x tensor: torch.Size([355936, 9])\n",
      "Size of edge_index tensor: torch.Size([2, 673565])\n",
      "Size of edge_attributes tensor: torch.Size([673565, 2])\n",
      "Graph saved as PyTorch in Data/santiago_global_mean.pt\n"
     ]
    }
   ],
   "source": [
    "createPytorchData(G, file_name='santiago_global_mean')"
   ]
  }
 ],
 "metadata": {
  "kernelspec": {
   "display_name": "tesisenv",
   "language": "python",
   "name": "python3"
  },
  "language_info": {
   "codemirror_mode": {
    "name": "ipython",
    "version": 3
   },
   "file_extension": ".py",
   "mimetype": "text/x-python",
   "name": "python",
   "nbconvert_exporter": "python",
   "pygments_lexer": "ipython3",
   "version": "3.11.4"
  },
  "orig_nbformat": 4
 },
 "nbformat": 4,
 "nbformat_minor": 2
}
